{
 "cells": [
  {
   "cell_type": "markdown",
   "id": "65ecfeeb-6004-474b-a788-4b8dc4f7d20d",
   "metadata": {},
   "source": [
    "定义变量，无需声明，直接赋值"
   ]
  },
  {
   "cell_type": "code",
   "execution_count": 34,
   "id": "070d2c3f-e008-4764-9c4d-4d187ae98fb5",
   "metadata": {},
   "outputs": [
    {
     "data": {
      "text/plain": [
       "33.2"
      ]
     },
     "execution_count": 34,
     "metadata": {},
     "output_type": "execute_result"
    }
   ],
   "source": [
    "x = 10\n",
    "α = 33.2  # \\alpha + Tab"
   ]
  },
  {
   "cell_type": "code",
   "execution_count": 33,
   "id": "ea8c60be-5cb0-47fa-a854-3760029151b9",
   "metadata": {},
   "outputs": [
    {
     "data": {
      "text/plain": [
       "0.982793723247329"
      ]
     },
     "execution_count": 33,
     "metadata": {},
     "output_type": "execute_result"
    }
   ],
   "source": [
    "y = 2 + 3im\n",
    "real(y)\n",
    "imag(y)\n",
    "angle(y)"
   ]
  },
  {
   "cell_type": "code",
   "execution_count": 35,
   "id": "e20100e4-d227-413e-8b57-747629e3c40b",
   "metadata": {},
   "outputs": [
    {
     "data": {
      "text/plain": [
       "0.6666666666666666"
      ]
     },
     "execution_count": 35,
     "metadata": {},
     "output_type": "execute_result"
    }
   ],
   "source": [
    "z = 2 // 3 # 分数\n",
    "numerator(z)\n",
    "denominator(z)\n",
    "float(z)"
   ]
  },
  {
   "cell_type": "code",
   "execution_count": 43,
   "id": "589b1e2d-460b-40ae-aeca-703030e4bceb",
   "metadata": {},
   "outputs": [
    {
     "data": {
      "text/plain": [
       "33"
      ]
     },
     "execution_count": 43,
     "metadata": {},
     "output_type": "execute_result"
    }
   ],
   "source": [
    "c = 'a'\n",
    "d = '\\u21'\n",
    "Int(d)"
   ]
  },
  {
   "cell_type": "code",
   "execution_count": 48,
   "id": "eb6445c8-c8f4-4ee5-b605-e5c0c3c9fc1a",
   "metadata": {},
   "outputs": [
    {
     "data": {
      "text/plain": [
       "\"d 你好\""
      ]
     },
     "execution_count": 48,
     "metadata": {},
     "output_type": "execute_result"
    }
   ],
   "source": [
    "s = \"hello world 你好\"\n",
    "s[3]\n",
    "s[end-5:end]"
   ]
  },
  {
   "cell_type": "code",
   "execution_count": 49,
   "id": "0f432ce7-9fe5-4e18-ab11-f23244244438",
   "metadata": {},
   "outputs": [
    {
     "data": {
      "text/plain": [
       "Int64"
      ]
     },
     "execution_count": 49,
     "metadata": {},
     "output_type": "execute_result"
    }
   ],
   "source": [
    "typeof(x) # 数据类型"
   ]
  },
  {
   "cell_type": "code",
   "execution_count": 13,
   "id": "99e30f2e-3da9-4f70-8063-4c708f323e99",
   "metadata": {},
   "outputs": [
    {
     "data": {
      "text/plain": [
       "18"
      ]
     },
     "execution_count": 13,
     "metadata": {},
     "output_type": "execute_result"
    }
   ],
   "source": [
    "sizeof(s) # 数据大小"
   ]
  },
  {
   "cell_type": "code",
   "execution_count": 17,
   "id": "79a5f191-850d-470c-99d4-9bfe4c902d33",
   "metadata": {},
   "outputs": [
    {
     "data": {
      "text/plain": [
       "2.220446049250313e-16"
      ]
     },
     "execution_count": 17,
     "metadata": {},
     "output_type": "execute_result"
    }
   ],
   "source": [
    "eps(1.2)  # 精度"
   ]
  },
  {
   "cell_type": "code",
   "execution_count": 52,
   "id": "7479544a-628c-4c90-ac29-a8d79472f417",
   "metadata": {},
   "outputs": [
    {
     "data": {
      "text/plain": [
       "5.744562646538029"
      ]
     },
     "execution_count": 52,
     "metadata": {},
     "output_type": "execute_result"
    }
   ],
   "source": [
    "sqrt(33)\n"
   ]
  },
  {
   "cell_type": "code",
   "execution_count": null,
   "id": "02e0ea92-8e28-4e26-a31d-e794beadeea9",
   "metadata": {},
   "outputs": [],
   "source": []
  }
 ],
 "metadata": {
  "kernelspec": {
   "display_name": "Julia 1.7.2",
   "language": "julia",
   "name": "julia-1.7"
  },
  "language_info": {
   "file_extension": ".jl",
   "mimetype": "application/julia",
   "name": "julia",
   "version": "1.7.2"
  }
 },
 "nbformat": 4,
 "nbformat_minor": 5
}
